{
 "cells": [
  {
   "cell_type": "code",
   "execution_count": null,
   "metadata": {},
   "outputs": [],
   "source": [
    "from ghwrappers.api import GitHubAPI, GithubFile\n",
    "from io import BytesIO, StringIO, BufferedWriter\n",
    "from fundar.structures import lista\n",
    "import requests\n",
    "import json"
   ]
  },
  {
   "cell_type": "code",
   "execution_count": null,
   "metadata": {},
   "outputs": [],
   "source": [
    "subtopico = 'CAMCLI'\n",
    "\n",
    "transformers = GitHubAPI.ls('argendata/transformers', f'{subtopico}/')\n",
    "transformers = lista[GithubFile](transformers)\n",
    "mappings = transformers.find(lambda x: x.name == 'mappings.json')\n",
    "\n",
    "data = GitHubAPI.ls('argendata/data', f'{subtopico}/')\n",
    "data = lista[GithubFile](data)"
   ]
  },
  {
   "cell_type": "code",
   "execution_count": null,
   "metadata": {},
   "outputs": [],
   "source": [
    "mappings = requests.get(mappings.download_url)\n",
    "\n",
    "if mappings.status_code != 200:\n",
    "    raise Exception('Error downloading mappings.json')\n",
    "\n",
    "mappings = json.loads(mappings.content.decode('utf-8'))"
   ]
  },
  {
   "cell_type": "code",
   "execution_count": null,
   "metadata": {},
   "outputs": [],
   "source": [
    "workspace = {\n",
    "    p: {'data': data.find(lambda x: x.name == k),\n",
    "        'transformer': transformers.find(lambda x: p in x.name),\n",
    "        'target': ('argendata/graficos', f'{subtopico}/{p}/data/{p}.csv')}\n",
    "    for k,v in mappings.items()\n",
    "    for x in v\n",
    "    for p in (x['public'], ) # alias\n",
    "}"
   ]
  },
  {
   "cell_type": "code",
   "execution_count": null,
   "metadata": {},
   "outputs": [],
   "source": [
    "from data_transformers import chain\n",
    "from data_transformers.consumer import (\n",
    "    parse_source, \n",
    "    transformer_from_source, \n",
    ")"
   ]
  },
  {
   "cell_type": "code",
   "execution_count": null,
   "metadata": {},
   "outputs": [],
   "source": [
    "import warnings\n",
    "\n",
    "def get_data_retry(data, retries=3, on_retry: callable = None):\n",
    "    for i in range(retries):\n",
    "        url = data.download_url\n",
    "        try:\n",
    "            result = requests.get(url)\n",
    "            if result.status_code != 200:\n",
    "                raise Exception(f'Error downloading {data.name} (status code {result.status_code})')\n",
    "            return result.content\n",
    "        except Exception as e:\n",
    "            warnings.warn(f'Error downloading {data.name} (retry {i})')\n",
    "            if on_retry:\n",
    "                on_retry()\n",
    "    raise Exception(f'Error downloading {data.name} (max retries)')\n",
    "\n",
    "def df_csv_str(df):\n",
    "    buffer = StringIO()\n",
    "    df.to_csv(buffer, index=False)\n",
    "    return buffer.getvalue()"
   ]
  },
  {
   "cell_type": "code",
   "execution_count": null,
   "metadata": {},
   "outputs": [],
   "source": [
    "def get_transformer_from_source(source_code: str):\n",
    "    source_code = lista(source_code.split('\\n'))\n",
    "    pipeline_str, f_definitions = parse_source(source_code)\n",
    "\n",
    "    defined_functions = lista(f_definitions).map(transformer_from_source)\n",
    "\n",
    "    _globals = {}\n",
    "    _globals |= dict(defined_functions)\n",
    "    _globals |= dict(chain=chain)\n",
    "    pipeline = eval(pipeline_str, _globals)\n",
    "    return pipeline"
   ]
  },
  {
   "cell_type": "code",
   "execution_count": null,
   "metadata": {},
   "outputs": [],
   "source": [
    "from base64 import b64encode\n",
    "import os.path"
   ]
  },
  {
   "cell_type": "code",
   "execution_count": null,
   "metadata": {},
   "outputs": [],
   "source": [
    "from fundar import pandas as pd"
   ]
  },
  {
   "cell_type": "code",
   "execution_count": null,
   "metadata": {},
   "outputs": [],
   "source": [
    "class LazyAction:\n",
    "    def __init__(self, f):\n",
    "        self.f = f\n",
    "\n",
    "    def run(self, *args, **kwargs):\n",
    "        return self.f(*args, **kwargs)"
   ]
  },
  {
   "cell_type": "code",
   "execution_count": null,
   "metadata": {},
   "outputs": [],
   "source": [
    "def create_uploader(gid, data, transformer, path, repo):\n",
    "    if not data:\n",
    "        return LazyAction(lambda *args, **kwargs: print(f'{gid} skipped (data not found).'))\n",
    "\n",
    "    data_content = get_data_retry(data, on_retry=data.update)\n",
    "    data_content = data_content.decode('utf-8')\n",
    "\n",
    "    df = pd.read_csv(StringIO(data_content))\n",
    "\n",
    "    if not transformer:\n",
    "        result = df\n",
    "    else:\n",
    "        transformer_content = get_data_retry(transformer, on_retry=transformer.update)\n",
    "        try:\n",
    "            transformer_content = transformer_content.decode('utf-8')\n",
    "        except UnicodeDecodeError:\n",
    "            transformer_content = transformer_content.decode('latin-1')\n",
    "\n",
    "        data_transformer = get_transformer_from_source(transformer_content)\n",
    "\n",
    "        _, result = data_transformer(df)\n",
    "\n",
    "    result_str = df_csv_str(result)\n",
    "    result_str = b64encode(result_str.encode('utf-8')).decode('utf-8')\n",
    "\n",
    "    lazy_upload = GitHubAPI._upload(\n",
    "        encoded_resource=result_str, \n",
    "        repo=repo, \n",
    "        repo_path=os.path.dirname(path)+'/',\n",
    "        name=os.path.basename(path),\n",
    "        replace=True)\n",
    "    \n",
    "    return lazy_upload"
   ]
  },
  {
   "cell_type": "code",
   "execution_count": null,
   "metadata": {},
   "outputs": [],
   "source": [
    "for gid, v in workspace.items():\n",
    "    print(f'Processing {gid}')\n",
    "    data: GithubFile = v['data']\n",
    "    transformer: GithubFile = v['transformer']\n",
    "    repo, path = v['target']\n",
    "\n",
    "    workspace[gid]['upload_action'] = create_uploader(gid, data, transformer, path, repo)"
   ]
  },
  {
   "cell_type": "code",
   "execution_count": null,
   "metadata": {},
   "outputs": [],
   "source": [
    "# for gid, v in workspace.items():\n",
    "#     print(f'Actioning {gid}')\n",
    "#     v['upload_action'].run()"
   ]
  }
 ],
 "metadata": {
  "kernelspec": {
   "display_name": "Python 3",
   "language": "python",
   "name": "python3"
  },
  "language_info": {
   "codemirror_mode": {
    "name": "ipython",
    "version": 3
   },
   "file_extension": ".py",
   "mimetype": "text/x-python",
   "name": "python",
   "nbconvert_exporter": "python",
   "pygments_lexer": "ipython3",
   "version": "3.10.12"
  }
 },
 "nbformat": 4,
 "nbformat_minor": 2
}
