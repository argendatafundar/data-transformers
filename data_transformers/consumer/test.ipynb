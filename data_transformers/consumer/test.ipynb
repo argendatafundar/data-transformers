{
 "cells": [
  {
   "cell_type": "code",
   "execution_count": 1,
   "metadata": {},
   "outputs": [],
   "source": [
    "from fundar.structures import List as Lista, slicer\n",
    "from fundar.utils import (\n",
    "    snd, \n",
    "    load_from_str_or_buf, \n",
    "    has,\n",
    "    identity, \n",
    "    access, \n",
    "    identity, \n",
    "    is_empty, \n",
    "    find_file, \n",
    "    split_path_recursively\n",
    ")\n",
    "\n",
    "from pandas import DataFrame\n",
    "from data_transformers.consumer import parse_source, transformer_from_source, str_split, bytes_decode\n",
    "from fundar import json\n",
    "from data_transformers import chain\n",
    "from pandas import DataFrame\n",
    "from glob import glob\n",
    "import os"
   ]
  },
  {
   "cell_type": "code",
   "execution_count": 2,
   "metadata": {},
   "outputs": [],
   "source": [
    "file = find_file('mappings.json', 'C:/Users/Joan/Coding/Python/data_transformers')"
   ]
  },
  {
   "cell_type": "code",
   "execution_count": 3,
   "metadata": {},
   "outputs": [],
   "source": [
    "t_1 = find_file('CRECIM_g01_transformer.py', '../../../')"
   ]
  },
  {
   "cell_type": "code",
   "execution_count": 4,
   "metadata": {},
   "outputs": [],
   "source": [
    "mappings = find_file('mappings.json', t_1)"
   ]
  },
  {
   "cell_type": "code",
   "execution_count": 5,
   "metadata": {},
   "outputs": [],
   "source": [
    "datasets_update = '/'.join(split_path_recursively(t_1)[:-3])\n",
    "datasets_update_files = glob(datasets_update+'/*.csv')\n",
    "transformers_files = glob(datasets_update+'/definitivos/transformers/*.py')\n",
    "transformers_files = Lista(transformers_files)"
   ]
  },
  {
   "cell_type": "code",
   "execution_count": 6,
   "metadata": {},
   "outputs": [],
   "source": [
    "get_name = (\n",
    "    os.path.split,  # list[str]\n",
    "    snd,            # str\n",
    "    str_split('_'), # list[str]\n",
    "    slicer(2),      # list[str]\n",
    "    '_'.join        # str \n",
    ") # str\n",
    "\n",
    "get_name = Lista.of(Lista(get_name).chain, lambda x: x) # (str, str)\n",
    "\n",
    "name_mappings = {k:v for k,v in transformers_files.map(get_name.apply)}"
   ]
  },
  {
   "cell_type": "code",
   "execution_count": 7,
   "metadata": {},
   "outputs": [],
   "source": [
    "files = {y : {'file':k, 'transformer': t } \n",
    " for k,v in json.load(mappings).items() \n",
    " for x in v \n",
    " for y in (x['public'], ) # alias\n",
    " for t in (name_mappings.get(y, None), ) # alias\n",
    " if t is not None # filtro los que no tengan transformadores\n",
    "}"
   ]
  },
  {
   "cell_type": "code",
   "execution_count": 8,
   "metadata": {},
   "outputs": [],
   "source": [
    "source_code = load_from_str_or_buf(files['CRECIM_g01']['transformer']).readlines()\n",
    "source_code = Lista(source_code).map(bytes_decode('latin-1'))"
   ]
  },
  {
   "cell_type": "code",
   "execution_count": 9,
   "metadata": {},
   "outputs": [],
   "source": [
    "pipeline_str, f_definitions = parse_source(source_code)"
   ]
  },
  {
   "cell_type": "code",
   "execution_count": 12,
   "metadata": {},
   "outputs": [],
   "source": [
    "defined_functions = Lista(f_definitions).map(transformer_from_source)\n",
    "\n",
    "for k,v in defined_functions:\n",
    "    globals()[k] = v"
   ]
  },
  {
   "cell_type": "code",
   "execution_count": 13,
   "metadata": {},
   "outputs": [],
   "source": [
    "pipeline = eval(pipeline_str)"
   ]
  },
  {
   "cell_type": "code",
   "execution_count": 14,
   "metadata": {},
   "outputs": [],
   "source": [
    "df = DataFrame({'pais_nombre': ['b'], 'sector': ['a']})"
   ]
  },
  {
   "cell_type": "code",
   "execution_count": 15,
   "metadata": {},
   "outputs": [
    {
     "data": {
      "text/plain": [
       "([(<transformer 'start'>,\n",
       "   {},\n",
       "     pais_nombre sector\n",
       "   0           b      a),\n",
       "  (<transformer 'drop_col'>,\n",
       "   {'col': 'pais_nombre',\n",
       "    'axis': 1,\n",
       "    'df':   pais_nombre sector\n",
       "    0           b      a},\n",
       "     sector\n",
       "   0      a),\n",
       "  (<transformer 'identity'>,\n",
       "   {'df':   sector\n",
       "    0      a},\n",
       "     sector\n",
       "   0      a)],\n",
       "   sector\n",
       " 0      a)"
      ]
     },
     "execution_count": 15,
     "metadata": {},
     "output_type": "execute_result"
    }
   ],
   "source": [
    "pipeline(df)"
   ]
  },
  {
   "cell_type": "code",
   "execution_count": null,
   "metadata": {},
   "outputs": [],
   "source": []
  }
 ],
 "metadata": {
  "kernelspec": {
   "display_name": "Python 3",
   "language": "python",
   "name": "python3"
  },
  "language_info": {
   "codemirror_mode": {
    "name": "ipython",
    "version": 3
   },
   "file_extension": ".py",
   "mimetype": "text/x-python",
   "name": "python",
   "nbconvert_exporter": "python",
   "pygments_lexer": "ipython3",
   "version": "3.11.6"
  }
 },
 "nbformat": 4,
 "nbformat_minor": 2
}
