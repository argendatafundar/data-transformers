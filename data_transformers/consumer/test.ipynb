{
 "cells": [
  {
   "cell_type": "code",
   "execution_count": 1,
   "metadata": {},
   "outputs": [],
   "source": [
    "from fundar.structures import List as Lista\n",
    "from fundar.utils import snd, load_from_str_or_buf, has, access, identity, is_empty\n",
    "from fundar import json\n",
    "from utils import find_file, slicer\n",
    "from data_transformers import transformer\n",
    "from data_transformers import chain\n",
    "from pandas import DataFrame\n",
    "from glob import glob\n",
    "import os\n",
    "\n",
    "def str_split(sep, **kwargs):\n",
    "    return lambda x: str.split(x, sep,**kwargs)\n",
    "\n",
    "def bytes_decode(encoding, **kwargs):\n",
    "    return lambda x: bytes.decode(x, encoding, **kwargs)"
   ]
  },
  {
   "cell_type": "code",
   "execution_count": 2,
   "metadata": {},
   "outputs": [],
   "source": [
    "mappings = find_file('mappings.json')\n",
    "transformers = glob('./datasets_update/definitivos/transformers/*.py')\n",
    "transformers = Lista(transformers)"
   ]
  },
  {
   "cell_type": "code",
   "execution_count": 3,
   "metadata": {},
   "outputs": [],
   "source": [
    "get_name = (\n",
    "    os.path.split,  # list[str]\n",
    "    snd,            # str\n",
    "    str_split('_'), # list[str]\n",
    "    slicer(2),      # list[str]\n",
    "    '_'.join        # str \n",
    ") # str\n",
    "\n",
    "get_name = Lista.of(Lista(get_name).chain, lambda x: x) # (str, str)\n",
    "\n",
    "name_mappings = {k:v for k,v in transformers.map(get_name.apply)}"
   ]
  },
  {
   "cell_type": "code",
   "execution_count": 4,
   "metadata": {},
   "outputs": [],
   "source": [
    "files = {y : {'file':k, 'transformer': name_mappings.get(y, None)} \n",
    " for k,v in json.load(mappings).items() \n",
    " for x in v \n",
    " for y in (x['public'], ) # alias\n",
    "}"
   ]
  },
  {
   "cell_type": "code",
   "execution_count": 5,
   "metadata": {},
   "outputs": [],
   "source": [
    "source_code = load_from_str_or_buf(files['CAMCLI_g12']['transformer']).readlines()\n",
    "source_code = Lista(source_code).map(bytes_decode('latin-1'))\n",
    "\n",
    "def parse_source(source_code: str):\n",
    "    definitions_range = source_code.which(has('DEFINITIONS'))\n",
    "    definitions_range[1] += 1\n",
    "\n",
    "    pipeline_range = source_code.which(has('PIPELINE'))\n",
    "    pipeline_range[1] += 1\n",
    "\n",
    "    definitions = source_code[slice(*definitions_range)]\n",
    "    pipeline = source_code[slice(*pipeline_range)]\n",
    "\n",
    "    definitions = definitions[1:-1].map(str.rstrip)\n",
    "\n",
    "    convert_indices = definitions.which(has('@transformer.convert'))\n",
    "    return_indices = definitions.which(has('return'))\n",
    "\n",
    "    definitions_indices = convert_indices.zip(return_indices)\n",
    "\n",
    "    f_definitions = [None for _ in definitions_indices]\n",
    "\n",
    "    for k,(i,j) in enumerate(definitions_indices):\n",
    "        f_definitions[k] = '\\n'.join(definitions[i+1:j+1])\n",
    "\n",
    "    pipeline_str = ''.join(pipeline[1:-1]).split('pipeline =')[1].lstrip()\n",
    "\n",
    "    return pipeline, f_definitions"
   ]
  },
  {
   "cell_type": "code",
   "execution_count": 8,
   "metadata": {},
   "outputs": [],
   "source": [
    "def transformer_from_source(source: str):\n",
    "    if not source.startswith('def '):\n",
    "        raise ValueError('Source string must start with function definition')\n",
    "    \n",
    "    left_paren = source.index('(')\n",
    "    k = len('def ')\n",
    "    name = source[k:left_paren]\n",
    "    \n",
    "    exec(source, globals())\n",
    "    obj = globals().get(name)\n",
    "    source = '@transformers.convert\\n' + source\n",
    "    globals()[name] = transformer.convert(obj, name=name, external_sourcelines=source)\n",
    "    return obj"
   ]
  },
  {
   "cell_type": "code",
   "execution_count": 9,
   "metadata": {},
   "outputs": [
    {
     "data": {
      "text/plain": [
       "<function __main__.rename_cols(df: pandas.core.frame.DataFrame, map)>"
      ]
     },
     "execution_count": 9,
     "metadata": {},
     "output_type": "execute_result"
    }
   ],
   "source": [
    "transformer_from_source(f_definitions[0])"
   ]
  },
  {
   "cell_type": "code",
   "execution_count": 13,
   "metadata": {},
   "outputs": [
    {
     "data": {
      "text/plain": [
       "<function __main__.drop_col(df: pandas.core.frame.DataFrame, col, axis=1)>"
      ]
     },
     "execution_count": 13,
     "metadata": {},
     "output_type": "execute_result"
    }
   ],
   "source": [
    "transformer_from_source(f_definitions[1])"
   ]
  },
  {
   "cell_type": "code",
   "execution_count": 31,
   "metadata": {},
   "outputs": [],
   "source": [
    "pipeline_str = ''.join(pipeline[1:-1]).split('pipeline =')[1].lstrip()"
   ]
  },
  {
   "cell_type": "code",
   "execution_count": 35,
   "metadata": {},
   "outputs": [],
   "source": [
    "df = DataFrame({'sector': ['a']})"
   ]
  },
  {
   "cell_type": "code",
   "execution_count": 36,
   "metadata": {},
   "outputs": [],
   "source": [
    "pipeline = eval(pipeline_str)"
   ]
  },
  {
   "cell_type": "code",
   "execution_count": 38,
   "metadata": {},
   "outputs": [
    {
     "data": {
      "text/plain": [
       "([(<transformer 'start'>,\n",
       "   {},\n",
       "     sector\n",
       "   0      a),\n",
       "  (<transformer 'rename_cols'>,\n",
       "   {'map': {'subsector': 'indicador', 'valor_en_mtco2e': 'valor'},\n",
       "    'df':   sector\n",
       "    0      a},\n",
       "     sector\n",
       "   0      a),\n",
       "  (<transformer 'drop_col'>,\n",
       "   {'col': 'sector', 'axis': 1, 'df':   sector\n",
       "    0      a},\n",
       "   Empty DataFrame\n",
       "   Columns: []\n",
       "   Index: [0])],\n",
       " Empty DataFrame\n",
       " Columns: []\n",
       " Index: [0])"
      ]
     },
     "execution_count": 38,
     "metadata": {},
     "output_type": "execute_result"
    }
   ],
   "source": [
    "pipeline(df)"
   ]
  }
 ],
 "metadata": {
  "kernelspec": {
   "display_name": "Python 3",
   "language": "python",
   "name": "python3"
  },
  "language_info": {
   "codemirror_mode": {
    "name": "ipython",
    "version": 3
   },
   "file_extension": ".py",
   "mimetype": "text/x-python",
   "name": "python",
   "nbconvert_exporter": "python",
   "pygments_lexer": "ipython3",
   "version": "3.11.6"
  }
 },
 "nbformat": 4,
 "nbformat_minor": 2
}
